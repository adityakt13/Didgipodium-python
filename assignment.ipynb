{
 "cells": [
  {
   "cell_type": "code",
   "execution_count": 5,
   "metadata": {},
   "outputs": [
    {
     "name": "stdout",
     "output_type": "stream",
     "text": [
      "This is a string\n"
     ]
    }
   ],
   "source": [
    "# 1 Create a string and print it.\n",
    "words = ['Python', 'is', 'easy', 'to', 'learn']\n",
    "str = 'This is a string'\n",
    "print(str)"
   ]
  },
  {
   "cell_type": "code",
   "execution_count": 6,
   "metadata": {},
   "outputs": [
    {
     "name": "stdout",
     "output_type": "stream",
     "text": [
      "0\n"
     ]
    }
   ],
   "source": [
    "# 2 Take a string input and print it's length.\n",
    "string1 = input(\"Enter a string: \")\n",
    "print(len(string1))"
   ]
  },
  {
   "cell_type": "code",
   "execution_count": 7,
   "metadata": {},
   "outputs": [
    {
     "data": {
      "text/plain": [
       "'great'"
      ]
     },
     "execution_count": 7,
     "metadata": {},
     "output_type": "execute_result"
    }
   ],
   "source": [
    "# 3 Print the last word of the string Python is great using slices.\n",
    "string2 = 'Python is great'\n",
    "string2[-5:]"
   ]
  },
  {
   "cell_type": "code",
   "execution_count": 11,
   "metadata": {},
   "outputs": [
    {
     "name": "stdout",
     "output_type": "stream",
     "text": [
      "python\n",
      "is\n",
      "everywhere\n"
     ]
    }
   ],
   "source": [
    "# 4 Print the each word in different line of string python is everywhere.\n",
    "string3 = 'python is everywhere'\n",
    "for i in string3.split():\n",
    "    print(i)"
   ]
  },
  {
   "cell_type": "code",
   "execution_count": 9,
   "metadata": {},
   "outputs": [
    {
     "name": "stdout",
     "output_type": "stream",
     "text": [
      "!dlroW olleH\n"
     ]
    }
   ],
   "source": [
    "# 5 Print the string Hello World! in reverse.\n",
    "string4 = 'Hello World!'\n",
    "print(string4 [::-1])"
   ]
  },
  {
   "cell_type": "code",
   "execution_count": 12,
   "metadata": {},
   "outputs": [
    {
     "data": {
      "text/plain": [
       "'HOW ARE YOU?'"
      ]
     },
     "execution_count": 12,
     "metadata": {},
     "output_type": "execute_result"
    }
   ],
   "source": [
    "# 6 Convert the string How are you? in uppercase.\n",
    "string5 = 'How are you?'\n",
    "string5.upper()"
   ]
  },
  {
   "cell_type": "code",
   "execution_count": null,
   "metadata": {},
   "outputs": [
    {
     "data": {
      "text/plain": [
       "'how is it going?'"
      ]
     },
     "execution_count": 15,
     "metadata": {},
     "output_type": "execute_result"
    }
   ],
   "source": [
    "# 7 Convert the string How Is It Going? in lowercase.\n",
    "string5 = 'How are you?'\n",
    "string6 = 'How Is It Going?'\n",
    "string6.lower()"
   ]
  },
  {
   "cell_type": "code",
   "execution_count": 13,
   "metadata": {},
   "outputs": [
    {
     "data": {
      "text/plain": [
       "'Python is easy to learn'"
      ]
     },
     "execution_count": 13,
     "metadata": {},
     "output_type": "execute_result"
    }
   ],
   "source": [
    "# 8 Join the following list by spaces( ) and print the result.\n",
    "words = ['Python', 'is', 'easy', 'to', 'learn']\n",
    "\" \".join(words)"
   ]
  },
  {
   "cell_type": "code",
   "execution_count": null,
   "metadata": {},
   "outputs": [
    {
     "name": "stdout",
     "output_type": "stream",
     "text": [
      "Create a string and print it.\n",
      "Take a string input and print it's length.\n",
      "Print the last word of the string Python is great using slices.\n",
      "Print the each word in different line of string python is everywhere.\n",
      "Print the string Hello World! in reverse.\n"
     ]
    }
   ],
   "source": [
    "# 9 Print a multiline string using a single print\n",
    "string6 = '''Create a string and print it.\n",
    "Take a string input and print it's length.\n",
    "Print the last word of the string Python is great using slices.\n",
    "Print the each word in different line of string python is everywhere.\n",
    "Print the string Hello World! in reverse.'''\n",
    "print (string6)"
   ]
  },
  {
   "cell_type": "code",
   "execution_count": null,
   "metadata": {},
   "outputs": [
    {
     "name": "stdout",
     "output_type": "stream",
     "text": [
      "the variable is 15\n"
     ]
    }
   ],
   "source": [
    "# 11 Print a variable with some text using a single print function, output should look like following.\n",
    "# the variable is 15\n",
    "print('the variable is 15')"
   ]
  },
  {
   "cell_type": "code",
   "execution_count": null,
   "metadata": {},
   "outputs": [
    {
     "name": "stdout",
     "output_type": "stream",
     "text": [
      "python is great.\n"
     ]
    }
   ],
   "source": [
    "# 12 concatenate the following strings and print the result\n",
    "s1 = 'python '\n",
    "s2 = 'is '\n",
    "s3 = 'great.'\n",
    "print (s1 + s2 + s3)"
   ]
  },
  {
   "cell_type": "code",
   "execution_count": null,
   "metadata": {},
   "outputs": [
    {
     "name": "stdout",
     "output_type": "stream",
     "text": [
      "####################\n"
     ]
    }
   ],
   "source": [
    "# 13 Print # 20 times without using a loop\n",
    "print ('#' * 20)"
   ]
  },
  {
   "cell_type": "code",
   "execution_count": 15,
   "metadata": {},
   "outputs": [
    {
     "name": "stdout",
     "output_type": "stream",
     "text": [
      "1.\n",
      "2.\n",
      "3.\n",
      "4.\n",
      "5.\n",
      "6.\n",
      "7.\n",
      "8.\n",
      "9.\n"
     ]
    }
   ],
   "source": [
    "'''14 Print numbers from 1 to 9, each on a seperate line, followed by a dot, output should look like the following-\n",
    "1.\n",
    "2.\n",
    "3. '''\n",
    "list1 = range(1,10)\n",
    "for i in list1:\n",
    "    print(f'{i}.')"
   ]
  },
  {
   "cell_type": "code",
   "execution_count": null,
   "metadata": {},
   "outputs": [
    {
     "name": "stdout",
     "output_type": "stream",
     "text": [
      "My name is Aditya Kumar Tripathi\n"
     ]
    }
   ],
   "source": [
    "# 15 Ask user to input a sentence and print each word on a different line.\n",
    "string7 = input (\"Enter a string: \")\n",
    "print(string7, )"
   ]
  },
  {
   "cell_type": "code",
   "execution_count": null,
   "metadata": {},
   "outputs": [
    {
     "data": {
      "text/plain": [
       "True"
      ]
     },
     "execution_count": 27,
     "metadata": {},
     "output_type": "execute_result"
    }
   ],
   "source": [
    "# 16 Ask user to input a string and check if the string ends with '?'\n",
    "string8 = input(\"Enter a string of your choice: \")\n",
    "string8.endswith('?')"
   ]
  },
  {
   "cell_type": "code",
   "execution_count": null,
   "metadata": {},
   "outputs": [
    {
     "data": {
      "text/plain": [
       "0"
      ]
     },
     "execution_count": 29,
     "metadata": {},
     "output_type": "execute_result"
    }
   ],
   "source": [
    "# 17 Ask user to input a string and print how many times e appeared in the string\n",
    "string_E = input(\"Enter a string to check occurence of 'e' in that string\")\n",
    "string_E.count('e')"
   ]
  },
  {
   "cell_type": "code",
   "execution_count": null,
   "metadata": {},
   "outputs": [
    {
     "data": {
      "text/plain": [
       "False"
      ]
     },
     "execution_count": 31,
     "metadata": {},
     "output_type": "execute_result"
    }
   ],
   "source": [
    "# 18 Check if the user input is a number.\n",
    "check = input(\"Input anything: \")\n",
    "check.isdigit()"
   ]
  },
  {
   "cell_type": "code",
   "execution_count": null,
   "metadata": {},
   "outputs": [
    {
     "data": {
      "text/plain": [
       "'this is not a good string'"
      ]
     },
     "execution_count": 40,
     "metadata": {},
     "output_type": "execute_result"
    }
   ],
   "source": [
    "# 19 Remove the extra spaces in beginning and in the end of the following string-\n",
    "text = '   this is not a good string      '\n",
    "text.strip()"
   ]
  },
  {
   "cell_type": "code",
   "execution_count": null,
   "metadata": {},
   "outputs": [
    {
     "name": "stdout",
     "output_type": "stream",
     "text": [
      "found\n",
      "found\n",
      "found\n",
      "found\n",
      "found\n",
      "found\n"
     ]
    }
   ],
   "source": [
    "# 20 Ask user to input string, print found if any of the character is upper case.\n",
    "user_input = input (\"Enter string: \")\n",
    "for i in user_input:\n",
    "    if i == i.upper():\n",
    "        print('found')"
   ]
  },
  {
   "cell_type": "code",
   "execution_count": null,
   "metadata": {},
   "outputs": [
    {
     "name": "stdout",
     "output_type": "stream",
     "text": [
      "['Joe', ' David', ' Mark', ' Tom', ' Chris', ' Robert']\n"
     ]
    }
   ],
   "source": [
    "# 21 Extract names from the following string and store them in a list.\n",
    "names = 'Joe, David, Mark, Tom, Chris, Robert'\n",
    "\n",
    "name_list = names.split(',')\n",
    "print(name_list)"
   ]
  },
  {
   "cell_type": "code",
   "execution_count": null,
   "metadata": {},
   "outputs": [
    {
     "name": "stdout",
     "output_type": "stream",
     "text": [
      "thisaye isaye someaye textaye \n"
     ]
    }
   ],
   "source": [
    "# 22 In the following string, add aye in the end of every word and print the results.\n",
    "text = 'this is some text'\n",
    "newText = ''\n",
    "for word in text.split():\n",
    "    newText += f'{word}aye '\n",
    "print(newText)"
   ]
  },
  {
   "cell_type": "code",
   "execution_count": null,
   "metadata": {},
   "outputs": [
    {
     "name": "stdout",
     "output_type": "stream",
     "text": [
      "found it\n"
     ]
    }
   ],
   "source": [
    "# 23 ask user to enter a string and check if the string contains fyi\n",
    "user_input2 = input(\"Enter a string: \")\n",
    "if user_input2.find('fyi'):\n",
    "    print('found it')"
   ]
  },
  {
   "cell_type": "code",
   "execution_count": null,
   "metadata": {},
   "outputs": [
    {
     "name": "stdout",
     "output_type": "stream",
     "text": [
      "<built-in method count of list object at 0x000000015F76EC40>\n"
     ]
    }
   ],
   "source": [
    "# 25 calculate the average word length of the following paragraph\n",
    "para = 'this is a paragraph which is written just for the purpose of providing content to let the average word length be calculated'\n",
    "parasplit = para.split().count"
   ]
  },
  {
   "cell_type": "code",
   "execution_count": null,
   "metadata": {},
   "outputs": [],
   "source": []
  }
 ],
 "metadata": {
  "kernelspec": {
   "display_name": "base",
   "language": "python",
   "name": "python3"
  },
  "language_info": {
   "codemirror_mode": {
    "name": "ipython",
    "version": 3
   },
   "file_extension": ".py",
   "mimetype": "text/x-python",
   "name": "python",
   "nbconvert_exporter": "python",
   "pygments_lexer": "ipython3",
   "version": "3.10.8 | packaged by conda-forge | (main, Nov 24 2022, 14:07:00) [MSC v.1916 64 bit (AMD64)]"
  },
  "orig_nbformat": 4,
  "vscode": {
   "interpreter": {
    "hash": "d4c82845a048daa8c33a8abb9ebd8563314c4f8de705e1fb128134a75ab22022"
   }
  }
 },
 "nbformat": 4,
 "nbformat_minor": 2
}
