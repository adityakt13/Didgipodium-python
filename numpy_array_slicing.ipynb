{
 "cells": [
  {
   "cell_type": "code",
   "execution_count": 11,
   "metadata": {},
   "outputs": [
    {
     "name": "stdout",
     "output_type": "stream",
     "text": [
      "[2000 2001 2002 2003 2004 2005 2006 2007 2008 2009]\n",
      "[ 1  2  3  4  5  6  7  8  9 10]\n"
     ]
    },
    {
     "data": {
      "text/plain": [
       "Text(0.5, 1.0, 'Practice set')"
      ]
     },
     "execution_count": 11,
     "metadata": {},
     "output_type": "execute_result"
    },
    {
     "data": {
      "image/png": "[encoded data removed]",
      "text/plain": [
       "<Figure size 640x480 with 1 Axes>"
      ]
     },
     "metadata": {},
     "output_type": "display_data"
    }
   ],
   "source": [
    "import numpy as np\n",
    "import matplotlib.pyplot as plt\n",
    "x = np.arange(2000,2010)\n",
    "y = np.arange(1,11)\n",
    "print(x)\n",
    "print(y)\n",
    "plt.bar(x,y)\n",
    "plt.title(\"Practice set\")"
   ]
  },
  {
   "cell_type": "code",
   "execution_count": 30,
   "metadata": {},
   "outputs": [],
   "source": [
    "a = np.random.randint(1,100,36).reshape(6,6)"
   ]
  },
  {
   "cell_type": "code",
   "execution_count": 31,
   "metadata": {},
   "outputs": [
    {
     "data": {
      "text/plain": [
       "array([[85, 97, 79, 53,  6, 20],\n",
       "       [46, 30, 72, 58, 75, 76],\n",
       "       [39, 11, 95, 88, 44, 46],\n",
       "       [13, 59, 79, 30, 98, 29],\n",
       "       [48, 75, 64, 17, 90, 12],\n",
       "       [53, 48, 73, 81,  5, 23]])"
      ]
     },
     "execution_count": 31,
     "metadata": {},
     "output_type": "execute_result"
    }
   ],
   "source": [
    "a"
   ]
  },
  {
   "cell_type": "code",
   "execution_count": 43,
   "metadata": {},
   "outputs": [
    {
     "name": "stdout",
     "output_type": "stream",
     "text": [
      "[[85 97 79 53  6 20]]\n",
      "[[46]\n",
      " [39]\n",
      " [13]\n",
      " [48]\n",
      " [53]]\n"
     ]
    }
   ],
   "source": [
    "print (a[0:1,0:])\n",
    "print(a[1:,:1]) "
   ]
  },
  {
   "cell_type": "code",
   "execution_count": 50,
   "metadata": {},
   "outputs": [
    {
     "name": "stdout",
     "output_type": "stream",
     "text": [
      "85\n",
      "30\n",
      "95\n",
      "30\n",
      "90\n",
      "23\n",
      "[[85 97 79 53  6 20]\n",
      " [46 30 72 58 75 76]\n",
      " [39 11 95 88 44 46]\n",
      " [13 59 79 30 98 29]\n",
      " [48 75 64 17 90 12]\n",
      " [53 48 73 81  5 23]]\n"
     ]
    }
   ],
   "source": [
    "print(a[0,0])\n",
    "print(a[1,1])\n",
    "print(a[2,2])\n",
    "print(a[3,3])\n",
    "print(a[4,4])\n",
    "print(a[-1,-1])\n",
    "print(a)"
   ]
  },
  {
   "cell_type": "code",
   "execution_count": null,
   "metadata": {},
   "outputs": [],
   "source": []
  }
 ],
 "metadata": {
  "kernelspec": {
   "display_name": "base",
   "language": "python",
   "name": "python3"
  },
  "language_info": {
   "codemirror_mode": {
    "name": "ipython",
    "version": 3
   },
   "file_extension": ".py",
   "mimetype": "text/x-python",
   "name": "python",
   "nbconvert_exporter": "python",
   "pygments_lexer": "ipython3",
   "version": "3.9.12 (main, Apr  4 2022, 05:22:27) [MSC v.1916 64 bit (AMD64)]"
  },
  "orig_nbformat": 4,
  "vscode": {
   "interpreter": {
    "hash": "c28b3cece02bc02c12fa5766a988d4443922620539affbc7b46a193a80d0f256"
   }
  }
 },
 "nbformat": 4,
 "nbformat_minor": 2
}
