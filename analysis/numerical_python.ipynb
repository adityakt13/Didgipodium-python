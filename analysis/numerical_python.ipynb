{
 "cells": [
  {
   "attachments": {},
   "cell_type": "markdown",
   "metadata": {},
   "source": [
    "## why should I use numpy"
   ]
  },
  {
   "cell_type": "code",
   "execution_count": 75,
   "metadata": {},
   "outputs": [],
   "source": [
    "import numpy as np"
   ]
  },
  {
   "cell_type": "code",
   "execution_count": 76,
   "metadata": {},
   "outputs": [
    {
     "name": "stdout",
     "output_type": "stream",
     "text": [
      "[[5 5]\n",
      " [9 6]]\n"
     ]
    }
   ],
   "source": [
    "x = np.array([[3, 2], [5, 5]])\n",
    "y = np.array([[2, 3], [4, 1]])\n",
    "\n",
    "z = x + y\n",
    "print(z)"
   ]
  },
  {
   "cell_type": "code",
   "execution_count": 77,
   "metadata": {},
   "outputs": [
    {
     "name": "stdout",
     "output_type": "stream",
     "text": [
      "matrix properties\n",
      "shape:  (2, 2)\n",
      "size:  4\n",
      "data type:  int32\n",
      "Dimension:  2\n"
     ]
    }
   ],
   "source": [
    "print(\"matrix properties\")\n",
    "print(\"shape: \",z.shape)\n",
    "print(\"size: \",z.size)\n",
    "print(\"data type: \",z.dtype)\n",
    "print(\"Dimension: \",z.ndim)"
   ]
  },
  {
   "cell_type": "code",
   "execution_count": 78,
   "metadata": {},
   "outputs": [
    {
     "name": "stderr",
     "output_type": "stream",
     "text": [
      "C:\\Users\\Tripathi's Laptop\\AppData\\Local\\Temp\\ipykernel_4008\\1961970931.py:1: VisibleDeprecationWarning: Creating an ndarray from ragged nested sequences (which is a list-or-tuple of lists-or-tuples-or ndarrays with different lengths or shapes) is deprecated. If you meant to do this, you must specify 'dtype=object' when creating the ndarray.\n",
      "  a = np.array([[1,2,2,2,3,3,4,4,5,5],\n"
     ]
    }
   ],
   "source": [
    "a = np.array([[1,2,2,2,3,3,4,4,5,5],\n",
    "              [5,7,3,5,8,9,2,8,4,9],\n",
    "              [45,67,34,23,56,7,43,6,7,8],\n",
    "              [4,5,6,7,8,9,2,6,1,10],\n",
    "              [6,8,9,5,3,5,8,0,5,9],\n",
    "              [4,5,6,7,8,3,2,1,7,8,0],\n",
    "              [0,9,8,7,6,5,4,3,2,1],\n",
    "              [1,3,5,7,9,2,4,6,8,0],\n",
    "              [11,22,33,44,55,66,77,88,99,100],\n",
    "              [21,31,41,51,61,71,81,91,101]])  "
   ]
  },
  {
   "cell_type": "code",
   "execution_count": 79,
   "metadata": {},
   "outputs": [
    {
     "data": {
      "text/plain": [
       "(10,)"
      ]
     },
     "execution_count": 79,
     "metadata": {},
     "output_type": "execute_result"
    }
   ],
   "source": [
    "a.shape"
   ]
  },
  {
   "attachments": {},
   "cell_type": "markdown",
   "metadata": {},
   "source": [
    "### generating matrix\n",
    "- sequential\n",
    "  - np.arange\n",
    "  - np.lin"
   ]
  },
  {
   "cell_type": "code",
   "execution_count": 80,
   "metadata": {},
   "outputs": [
    {
     "name": "stdout",
     "output_type": "stream",
     "text": [
      "[ 1  4  7 10 13 16 19 22 25 28 31 34 37 40 43 46 49 52 55 58 61 64 67 70\n",
      " 73 76 79 82 85 88 91 94 97]\n"
     ]
    }
   ],
   "source": [
    "a = np.arange (1,100,3)\n",
    "print(a)"
   ]
  },
  {
   "cell_type": "code",
   "execution_count": 81,
   "metadata": {},
   "outputs": [
    {
     "name": "stdout",
     "output_type": "stream",
     "text": [
      "[  1.   10.9  20.8  30.7  40.6  50.5  60.4  70.3  80.2  90.1 100. ]\n"
     ]
    }
   ],
   "source": [
    "b = np.linspace(1,100,11)\n",
    "print(b)"
   ]
  },
  {
   "cell_type": "code",
   "execution_count": 82,
   "metadata": {},
   "outputs": [
    {
     "data": {
      "text/plain": [
       "array([[ 1,  4,  7],\n",
       "       [10, 13, 16],\n",
       "       [19, 22, 25],\n",
       "       [28, 31, 34],\n",
       "       [37, 40, 43],\n",
       "       [46, 49, 52],\n",
       "       [55, 58, 61],\n",
       "       [64, 67, 70],\n",
       "       [73, 76, 79],\n",
       "       [82, 85, 88],\n",
       "       [91, 94, 97]])"
      ]
     },
     "execution_count": 82,
     "metadata": {},
     "output_type": "execute_result"
    }
   ],
   "source": [
    "a.reshape(11,3)"
   ]
  },
  {
   "cell_type": "code",
   "execution_count": 83,
   "metadata": {},
   "outputs": [
    {
     "name": "stdout",
     "output_type": "stream",
     "text": [
      "[3.0000e+00 9.0000e+00 2.7000e+01 8.1000e+01 2.4300e+02 7.2900e+02\n",
      " 2.1870e+03 6.5610e+03 1.9683e+04 5.9049e+04]\n"
     ]
    }
   ],
   "source": [
    "c = np.logspace(1,10,base=3,num = 10)\n",
    "print(c)"
   ]
  },
  {
   "cell_type": "code",
   "execution_count": 84,
   "metadata": {},
   "outputs": [],
   "source": [
    "import matplotlib.pyplot as pit"
   ]
  },
  {
   "cell_type": "code",
   "execution_count": 85,
   "metadata": {},
   "outputs": [
    {
     "data": {
      "text/plain": [
       "[<matplotlib.lines.Line2D at 0x75d7589820>]"
      ]
     },
     "execution_count": 85,
     "metadata": {},
     "output_type": "execute_result"
    },
    {
     "data": {
      "image/png": "[encoded data removed]",
      "text/plain": [
       "<Figure size 640x480 with 1 Axes>"
      ]
     },
     "metadata": {},
     "output_type": "display_data"
    }
   ],
   "source": [
    "pit.plot(np.linspace(1,10,25),\"go\") # here'g' is the color and 'o' signifies circle"
   ]
  },
  {
   "cell_type": "code",
   "execution_count": 86,
   "metadata": {},
   "outputs": [
    {
     "data": {
      "text/plain": [
       "[<matplotlib.lines.Line2D at 0x75e1e2f100>]"
      ]
     },
     "execution_count": 86,
     "metadata": {},
     "output_type": "execute_result"
    },
    {
     "data": {
      "image/png": "[encoded data removed]",
      "text/plain": [
       "<Figure size 640x480 with 1 Axes>"
      ]
     },
     "metadata": {},
     "output_type": "display_data"
    }
   ],
   "source": [
    "pit.plot(np.logspace(1,10,25,base = 3), \"rx\")"
   ]
  },
  {
   "cell_type": "code",
   "execution_count": 87,
   "metadata": {},
   "outputs": [
    {
     "data": {
      "text/plain": [
       "array([[[0.58734545, 0.5228214 ],\n",
       "        [0.71549841, 0.13003221],\n",
       "        [0.40403948, 0.44869289],\n",
       "        [0.6902985 , 0.72189531],\n",
       "        [0.94313023, 0.90903748]],\n",
       "\n",
       "       [[0.41008437, 0.64950146],\n",
       "        [0.5629606 , 0.25340071],\n",
       "        [0.93511531, 0.03224752],\n",
       "        [0.38533764, 0.26947185],\n",
       "        [0.37973442, 0.25185813]],\n",
       "\n",
       "       [[0.26603897, 0.94038543],\n",
       "        [0.98721043, 0.54716975],\n",
       "        [0.34022389, 0.22240904],\n",
       "        [0.79902494, 0.31980269],\n",
       "        [0.02661435, 0.0649731 ]],\n",
       "\n",
       "       [[0.88448925, 0.21980175],\n",
       "        [0.5202066 , 0.71650693],\n",
       "        [0.97197419, 0.13757695],\n",
       "        [0.777103  , 0.44543502],\n",
       "        [0.57266836, 0.46811927]],\n",
       "\n",
       "       [[0.16265257, 0.97973842],\n",
       "        [0.43887416, 0.69151141],\n",
       "        [0.41762747, 0.82961936],\n",
       "        [0.08567734, 0.98400107],\n",
       "        [0.39828313, 0.75202236]]])"
      ]
     },
     "execution_count": 87,
     "metadata": {},
     "output_type": "execute_result"
    }
   ],
   "source": [
    "np.random.rand(5,5,2)"
   ]
  },
  {
   "cell_type": "code",
   "execution_count": 88,
   "metadata": {},
   "outputs": [
    {
     "name": "stdout",
     "output_type": "stream",
     "text": [
      "[[1 1 2]\n",
      " [4 2 2]\n",
      " [3 4 4]]\n"
     ]
    }
   ],
   "source": [
    "x = np.random.randint(1,5, (3,3))\n",
    "print(x)"
   ]
  },
  {
   "cell_type": "code",
   "execution_count": 89,
   "metadata": {},
   "outputs": [
    {
     "name": "stdout",
     "output_type": "stream",
     "text": [
      "[[-3.54981611 -0.42173758 -1.8064738 ]\n",
      " [-0.28218314 -0.07653322 -2.44815242]\n",
      " [-1.74580309 -4.31629127 -4.68064612]]\n"
     ]
    }
   ],
   "source": [
    "z = np.random.uniform(-5, 5, (3,3))\n",
    "print(z)"
   ]
  },
  {
   "cell_type": "code",
   "execution_count": 90,
   "metadata": {},
   "outputs": [
    {
     "name": "stdout",
     "output_type": "stream",
     "text": [
      "[[1 1 1 1 1]\n",
      " [1 1 1 1 1]\n",
      " [1 1 1 1 1]]\n"
     ]
    }
   ],
   "source": [
    "# ones matrix\n",
    "a = np.ones([3,5], dtype = int)\n",
    "print(a)"
   ]
  },
  {
   "cell_type": "code",
   "execution_count": 91,
   "metadata": {},
   "outputs": [
    {
     "name": "stdout",
     "output_type": "stream",
     "text": [
      "[[0 0 0 0 0 0]\n",
      " [0 0 0 0 0 0]\n",
      " [0 0 0 0 0 0]\n",
      " [0 0 0 0 0 0]]\n"
     ]
    }
   ],
   "source": [
    "# zeros matrix\n",
    "z = np.zeros([4,6], dtype= int)\n",
    "print(z)"
   ]
  },
  {
   "cell_type": "code",
   "execution_count": 92,
   "metadata": {},
   "outputs": [
    {
     "name": "stdout",
     "output_type": "stream",
     "text": [
      "[[1 0 0 0 0 0]\n",
      " [0 1 0 0 0 0]\n",
      " [0 0 1 0 0 0]\n",
      " [0 0 0 1 0 0]\n",
      " [0 0 0 0 1 0]\n",
      " [0 0 0 0 0 1]]\n"
     ]
    }
   ],
   "source": [
    "e = np.eye(6,dtype = int)\n",
    "print(e)"
   ]
  },
  {
   "cell_type": "code",
   "execution_count": 93,
   "metadata": {},
   "outputs": [
    {
     "name": "stdout",
     "output_type": "stream",
     "text": [
      "[[2 0 0 0 0]\n",
      " [0 3 0 0 0]\n",
      " [0 0 1 0 0]\n",
      " [0 0 0 5 0]\n",
      " [0 0 0 0 6]]\n"
     ]
    }
   ],
   "source": [
    "f = np.diag([2,3,1,5,6]) # returns the values inside the bracket diagonally\n",
    "print(f)"
   ]
  },
  {
   "cell_type": "code",
   "execution_count": 94,
   "metadata": {},
   "outputs": [
    {
     "name": "stdout",
     "output_type": "stream",
     "text": [
      "[[1 7 2]\n",
      " [8 2 5]\n",
      " [5 2 7]]\n",
      "----------\n",
      "[[1 3 9]\n",
      " [9 4 6]\n",
      " [2 5 7]]\n"
     ]
    }
   ],
   "source": [
    "r = np.random.randint(1, 10, (3, 3))\n",
    "s = np.random.randint(1, 10, (3, 3))\n",
    "print(r)\n",
    "print(\"--\"*5)\n",
    "print(s)"
   ]
  },
  {
   "cell_type": "code",
   "execution_count": 95,
   "metadata": {},
   "outputs": [
    {
     "data": {
      "text/plain": [
       "array([[ 0,  4, -7],\n",
       "       [-1, -2, -1],\n",
       "       [ 3, -3,  0]])"
      ]
     },
     "execution_count": 95,
     "metadata": {},
     "output_type": "execute_result"
    }
   ],
   "source": [
    "r - s"
   ]
  },
  {
   "cell_type": "code",
   "execution_count": 96,
   "metadata": {},
   "outputs": [
    {
     "data": {
      "text/plain": [
       "array([[0, 1, 2],\n",
       "       [8, 2, 5],\n",
       "       [1, 2, 0]])"
      ]
     },
     "execution_count": 96,
     "metadata": {},
     "output_type": "execute_result"
    }
   ],
   "source": [
    "r % s"
   ]
  },
  {
   "cell_type": "code",
   "execution_count": 97,
   "metadata": {},
   "outputs": [
    {
     "data": {
      "text/plain": [
       "array([[ 1, 21, 18],\n",
       "       [72,  8, 30],\n",
       "       [10, 10, 49]])"
      ]
     },
     "execution_count": 97,
     "metadata": {},
     "output_type": "execute_result"
    }
   ],
   "source": [
    "r * s"
   ]
  },
  {
   "cell_type": "code",
   "execution_count": 98,
   "metadata": {},
   "outputs": [
    {
     "data": {
      "text/plain": [
       "array([[ 68,  41,  65],\n",
       "       [ 36,  57, 119],\n",
       "       [ 37,  58, 106]])"
      ]
     },
     "execution_count": 98,
     "metadata": {},
     "output_type": "execute_result"
    }
   ],
   "source": [
    "np.matmul(r,s) # matrix multiplication"
   ]
  },
  {
   "cell_type": "code",
   "execution_count": 99,
   "metadata": {},
   "outputs": [
    {
     "data": {
      "text/plain": [
       "array([[ 68,  41,  65],\n",
       "       [ 36,  57, 119],\n",
       "       [ 37,  58, 106]])"
      ]
     },
     "execution_count": 99,
     "metadata": {},
     "output_type": "execute_result"
    }
   ],
   "source": [
    "np.dot(r,s) # matrix multiplication"
   ]
  },
  {
   "cell_type": "code",
   "execution_count": 100,
   "metadata": {},
   "outputs": [
    {
     "data": {
      "text/plain": [
       "array([[ 57,  -7,  -4],\n",
       "       [ -8,  -3,  14],\n",
       "       [-21, -21,  21]])"
      ]
     },
     "execution_count": 100,
     "metadata": {},
     "output_type": "execute_result"
    }
   ],
   "source": [
    "np.cross(r,s)"
   ]
  },
  {
   "cell_type": "code",
   "execution_count": 101,
   "metadata": {},
   "outputs": [
    {
     "data": {
      "text/plain": [
       "array([[ 0.84147098,  0.6569866 ,  0.90929743],\n",
       "       [ 0.98935825,  0.90929743, -0.95892427],\n",
       "       [-0.95892427,  0.90929743,  0.6569866 ]])"
      ]
     },
     "execution_count": 101,
     "metadata": {},
     "output_type": "execute_result"
    }
   ],
   "source": [
    "np.sin(r)"
   ]
  },
  {
   "cell_type": "code",
   "execution_count": 102,
   "metadata": {},
   "outputs": [
    {
     "data": {
      "text/plain": [
       "array([[ 0.54030231, -0.9899925 , -0.91113026],\n",
       "       [-0.91113026, -0.65364362,  0.96017029],\n",
       "       [-0.41614684,  0.28366219,  0.75390225]])"
      ]
     },
     "execution_count": 102,
     "metadata": {},
     "output_type": "execute_result"
    }
   ],
   "source": [
    "np.cos(s)"
   ]
  },
  {
   "cell_type": "code",
   "execution_count": 103,
   "metadata": {},
   "outputs": [
    {
     "data": {
      "text/plain": [
       "array([ 1,  8, 10, 18, 20, 25, 30, 32, 39])"
      ]
     },
     "execution_count": 103,
     "metadata": {},
     "output_type": "execute_result"
    }
   ],
   "source": [
    "np.cumsum(r)"
   ]
  },
  {
   "cell_type": "code",
   "execution_count": 104,
   "metadata": {},
   "outputs": [
    {
     "data": {
      "text/plain": [
       "array([     1,      3,     27,    243,    972,   5832,  11664,  58320,\n",
       "       408240])"
      ]
     },
     "execution_count": 104,
     "metadata": {},
     "output_type": "execute_result"
    }
   ],
   "source": [
    "np.cumprod(s)"
   ]
  },
  {
   "cell_type": "code",
   "execution_count": 105,
   "metadata": {},
   "outputs": [
    {
     "name": "stdout",
     "output_type": "stream",
     "text": [
      "[[1 7 2]\n",
      " [8 2 5]\n",
      " [5 2 7]]\n",
      "[14 11 14]\n",
      "----------------------------------------\n",
      "[[1 7 2]\n",
      " [8 2 5]\n",
      " [5 2 7]]\n"
     ]
    },
    {
     "data": {
      "text/plain": [
       "array([10, 15, 14])"
      ]
     },
     "execution_count": 105,
     "metadata": {},
     "output_type": "execute_result"
    }
   ],
   "source": [
    "print(r)\n",
    "print((r.sum(axis=0)))\n",
    "print(\"--\"*20)\n",
    "print(r)\n",
    "((r.sum(axis=1)))"
   ]
  },
  {
   "cell_type": "code",
   "execution_count": 106,
   "metadata": {},
   "outputs": [
    {
     "name": "stdout",
     "output_type": "stream",
     "text": [
      "[[7 8 9 3 3]\n",
      " [2 4 5 4 2]\n",
      " [3 1 2 6 8]]\n",
      "**********\n",
      "[12 13 16 13 13]\n",
      "[30 17 20]\n"
     ]
    }
   ],
   "source": [
    "x = np.random.randint(1, 10, (3,5))\n",
    "print(x)\n",
    "print(\"**\"*5)\n",
    "print(x.sum (axis = 0))\n",
    "print(x.sum (axis = 1))"
   ]
  },
  {
   "cell_type": "code",
   "execution_count": 107,
   "metadata": {},
   "outputs": [
    {
     "name": "stdout",
     "output_type": "stream",
     "text": [
      "4.466666666666667\n",
      "1\n",
      "9\n",
      "2.4729649321321876\n",
      "4.0\n"
     ]
    }
   ],
   "source": [
    "print(x.mean())\n",
    "print(x.min())\n",
    "print(x.max())\n",
    "print(x.std())\n",
    "print(np.median(x))"
   ]
  },
  {
   "attachments": {},
   "cell_type": "markdown",
   "metadata": {},
   "source": [
    "- reshape\n",
    "- transpose\n",
    "- flatten\n",
    "- concept of boolean indexing (filtering)"
   ]
  },
  {
   "cell_type": "code",
   "execution_count": 108,
   "metadata": {},
   "outputs": [
    {
     "name": "stdout",
     "output_type": "stream",
     "text": [
      "[[48 81 49 78 92 84]\n",
      " [24  5 18 70 95 44]\n",
      " [73 80 77 17 78 13]\n",
      " [80 56 42 83 73 25]\n",
      " [73 47 53 36 50 60]]\n"
     ]
    }
   ],
   "source": [
    "x = np.random.randint(1,100,(5,6))\n",
    "print(x)"
   ]
  },
  {
   "cell_type": "code",
   "execution_count": 109,
   "metadata": {},
   "outputs": [
    {
     "data": {
      "text/plain": [
       "array([[[48, 81, 49],\n",
       "        [78, 92, 84],\n",
       "        [24,  5, 18],\n",
       "        [70, 95, 44],\n",
       "        [73, 80, 77]],\n",
       "\n",
       "       [[17, 78, 13],\n",
       "        [80, 56, 42],\n",
       "        [83, 73, 25],\n",
       "        [73, 47, 53],\n",
       "        [36, 50, 60]]])"
      ]
     },
     "execution_count": 109,
     "metadata": {},
     "output_type": "execute_result"
    }
   ],
   "source": [
    "x.reshape(2,5,3)"
   ]
  },
  {
   "cell_type": "code",
   "execution_count": 110,
   "metadata": {},
   "outputs": [
    {
     "data": {
      "text/plain": [
       "array([[[28, 42],\n",
       "        [48, 39],\n",
       "        [92, 49],\n",
       "        [68, 80]],\n",
       "\n",
       "       [[96, 62],\n",
       "        [93, 60],\n",
       "        [44, 89],\n",
       "        [ 8, 59]]])"
      ]
     },
     "execution_count": 110,
     "metadata": {},
     "output_type": "execute_result"
    }
   ],
   "source": [
    "np.random.randint(1,100,(2,4,2))"
   ]
  },
  {
   "cell_type": "code",
   "execution_count": 111,
   "metadata": {},
   "outputs": [
    {
     "name": "stdout",
     "output_type": "stream",
     "text": [
      "[[21 51 80 37]\n",
      " [75  7 79 80]]\n",
      "<built-in method transpose of numpy.ndarray object at 0x00000075D75F5DB0>\n",
      "[[37 80]\n",
      " [80 79]\n",
      " [51  7]\n",
      " [21 75]]\n",
      "[[37 80 51 21]\n",
      " [80 79  7 75]]\n",
      "[[75  7 79 80]\n",
      " [21 51 80 37]]\n"
     ]
    }
   ],
   "source": [
    "x = np.random.randint(1,100,(2,4))\n",
    "print(x)\n",
    "print(x.transpose)\n",
    "print(np.rot90(x))\n",
    "print(np.fliplr(x))\n",
    "print(np.flipud(x))"
   ]
  },
  {
   "cell_type": "code",
   "execution_count": 112,
   "metadata": {},
   "outputs": [
    {
     "data": {
      "text/plain": [
       "array([21, 51, 80, 37, 75,  7, 79, 80])"
      ]
     },
     "execution_count": 112,
     "metadata": {},
     "output_type": "execute_result"
    }
   ],
   "source": [
    "x.flatten()"
   ]
  },
  {
   "cell_type": "code",
   "execution_count": 113,
   "metadata": {},
   "outputs": [
    {
     "name": "stdout",
     "output_type": "stream",
     "text": [
      "[[34 75 95 32 43 47]\n",
      " [53 17 23 80 76 45]\n",
      " [20 53 71 44 19 88]\n",
      " [45 62 48 56 74 76]\n",
      " [54 32 39 77 62 90]\n",
      " [14 89 69 19 56 93]]\n"
     ]
    }
   ],
   "source": [
    "x = np.random.randint(10,100,(6,6))\n",
    "print(x)"
   ]
  },
  {
   "cell_type": "code",
   "execution_count": 114,
   "metadata": {},
   "outputs": [
    {
     "name": "stdout",
     "output_type": "stream",
     "text": [
      "First row is [34 75 95 32 43 47]\n",
      "Last row is [14 89 69 19 56 93]\n",
      "First element is 34\n",
      "Last element is 93\n"
     ]
    }
   ],
   "source": [
    "print(f\"First row is {x[0]}\")\n",
    "print(f\"Last row is {x[-1]}\")\n",
    "print(f\"First element is {x[0,0]}\")\n",
    "print(f\"Last element is {x[-1,-1]}\")"
   ]
  },
  {
   "cell_type": "code",
   "execution_count": 115,
   "metadata": {},
   "outputs": [
    {
     "name": "stdout",
     "output_type": "stream",
     "text": [
      "[[34 75 95 32 43 47]\n",
      " [53 17 23 80 76 45]\n",
      " [20 53 71 44 19 88]\n",
      " [45 62 48 56 74 76]\n",
      " [54 32 39 77 62 90]\n",
      " [14 89 69 19 56 93]]\n",
      "First column is [34 53 20 45 54 14]\n",
      "Last column is[47 45 88 76 90 93]\n"
     ]
    }
   ],
   "source": [
    "# to return first column\n",
    "print(x)\n",
    "print(f\"First column is {x[:,0]}\")\n",
    "\n",
    "# to return last column\n",
    "print(f\"Last column is{x[:,-1]}\")"
   ]
  },
  {
   "cell_type": "code",
   "execution_count": 116,
   "metadata": {},
   "outputs": [
    {
     "data": {
      "text/plain": [
       "array([[53, 17, 23, 80, 76, 45],\n",
       "       [20, 53, 71, 44, 19, 88],\n",
       "       [45, 62, 48, 56, 74, 76],\n",
       "       [54, 32, 39, 77, 62, 90],\n",
       "       [14, 89, 69, 19, 56, 93]])"
      ]
     },
     "execution_count": 116,
     "metadata": {},
     "output_type": "execute_result"
    }
   ],
   "source": [
    "x[1:,:]"
   ]
  },
  {
   "cell_type": "code",
   "execution_count": 117,
   "metadata": {},
   "outputs": [
    {
     "data": {
      "text/plain": [
       "array([[17, 23, 80, 76],\n",
       "       [53, 71, 44, 19],\n",
       "       [62, 48, 56, 74],\n",
       "       [32, 39, 77, 62]])"
      ]
     },
     "execution_count": 117,
     "metadata": {},
     "output_type": "execute_result"
    }
   ],
   "source": [
    "x[1:-1,1:-1]"
   ]
  },
  {
   "cell_type": "code",
   "execution_count": 118,
   "metadata": {},
   "outputs": [
    {
     "name": "stdout",
     "output_type": "stream",
     "text": [
      "[[34 75 95 32 43 47]\n",
      " [53 17 23 80 76 45]\n",
      " [20 53 71 44 19 88]\n",
      " [45 62 48 56 74 76]\n",
      " [54 32 39 77 62 90]\n",
      " [14 89 69 19 56 93]]\n"
     ]
    },
    {
     "data": {
      "text/plain": [
       "array([[56, 74, 76],\n",
       "       [77, 62, 90],\n",
       "       [19, 56, 93]])"
      ]
     },
     "execution_count": 118,
     "metadata": {},
     "output_type": "execute_result"
    }
   ],
   "source": [
    "print(x)\n",
    "x[-3:,-3:]\n",
    "x[3:,3:]"
   ]
  },
  {
   "cell_type": "code",
   "execution_count": 119,
   "metadata": {},
   "outputs": [
    {
     "data": {
      "text/plain": [
       "array([[56, 74, 76],\n",
       "       [77, 62, 90],\n",
       "       [19, 56, 93]])"
      ]
     },
     "execution_count": 119,
     "metadata": {},
     "output_type": "execute_result"
    }
   ],
   "source": [
    "x[3:,3:]"
   ]
  },
  {
   "cell_type": "code",
   "execution_count": 120,
   "metadata": {},
   "outputs": [
    {
     "name": "stdout",
     "output_type": "stream",
     "text": [
      "[[34 75 95 32 43 47]\n",
      " [53 17 23 80 76 45]\n",
      " [20 53 71 44 19 88]\n",
      " [45 62 48 56 74 76]\n",
      " [54 32 39 77 62 90]\n",
      " [14 89 69 19 56 93]]\n"
     ]
    }
   ],
   "source": [
    "print(x)\n"
   ]
  },
  {
   "cell_type": "code",
   "execution_count": 121,
   "metadata": {},
   "outputs": [
    {
     "name": "stdout",
     "output_type": "stream",
     "text": [
      "[[34 75 95 32 43 47]\n",
      " [53 17 23 80 76 45]\n",
      " [20 53 71 44 19 88]\n",
      " [45 62 48 56 74 76]\n",
      " [54 32 39 77 62 90]\n",
      " [14 89 69 19 56 93]]\n"
     ]
    }
   ],
   "source": [
    "x[-3:-1,-3:]\n",
    "print(x)"
   ]
  },
  {
   "cell_type": "code",
   "execution_count": 122,
   "metadata": {},
   "outputs": [
    {
     "data": {
      "text/plain": [
       "array([[17, 23, 80, 76],\n",
       "       [62, 48, 56, 74],\n",
       "       [89, 69, 19, 56]])"
      ]
     },
     "execution_count": 122,
     "metadata": {},
     "output_type": "execute_result"
    }
   ],
   "source": [
    "x [[1,3,-1],1:-1]"
   ]
  },
  {
   "cell_type": "code",
   "execution_count": 123,
   "metadata": {},
   "outputs": [
    {
     "name": "stdout",
     "output_type": "stream",
     "text": [
      "[678 829 624 457 548 138 470 522 210 701 996 998  75 617 859 190 666 598\n",
      " 233 161 126 992 134 791 122 860 147 803 383 980 984 278  86 208 580 151\n",
      " 557 880 758 654 310 801  10 452 532 782 539 117 640 885]\n"
     ]
    }
   ],
   "source": [
    "a = np.random.randint(1,1000,50 )\n",
    "print(a)"
   ]
  },
  {
   "cell_type": "code",
   "execution_count": 130,
   "metadata": {},
   "outputs": [
    {
     "name": "stdout",
     "output_type": "stream",
     "text": [
      "[[678 829 624 457 548]\n",
      " [138 470 522 210 701]\n",
      " [996 998  75 617 859]\n",
      " [190 666 598 233 161]\n",
      " [126 992 134 791 122]\n",
      " [860 147 803 383 980]\n",
      " [984 278  86 208 580]\n",
      " [151 557 880 758 654]\n",
      " [310 801  10 452 532]\n",
      " [782 539 117 640 885]]\n"
     ]
    },
    {
     "data": {
      "text/plain": [
       "array([ True,  True,  True,  True,  True,  True,  True,  True,  True,\n",
       "        True,  True,  True, False,  True,  True,  True,  True,  True,\n",
       "        True,  True,  True,  True,  True,  True,  True,  True,  True,\n",
       "        True,  True,  True,  True,  True, False,  True,  True,  True,\n",
       "        True,  True,  True,  True,  True,  True, False,  True,  True,\n",
       "        True,  True,  True,  True,  True])"
      ]
     },
     "execution_count": 130,
     "metadata": {},
     "output_type": "execute_result"
    }
   ],
   "source": [
    "print(a.reshape(10,5))\n",
    "a > 100 #boolean filter"
   ]
  },
  {
   "cell_type": "code",
   "execution_count": 125,
   "metadata": {},
   "outputs": [
    {
     "data": {
      "text/plain": [
       "array([75, 86, 10])"
      ]
     },
     "execution_count": 125,
     "metadata": {},
     "output_type": "execute_result"
    }
   ],
   "source": [
    "a[a < 100]"
   ]
  },
  {
   "cell_type": "code",
   "execution_count": 126,
   "metadata": {},
   "outputs": [],
   "source": [
    "# to fetch data between 500 and 800\n",
    "f1 = a >= 500\n",
    "f2 = a <= 800"
   ]
  },
  {
   "cell_type": "code",
   "execution_count": 127,
   "metadata": {},
   "outputs": [
    {
     "name": "stdout",
     "output_type": "stream",
     "text": [
      "[678 624 548 522 701 617 666 598 791 580 557 758 654 532 782 539 640]\n"
     ]
    }
   ],
   "source": [
    "print(a[f1 & f2])"
   ]
  },
  {
   "cell_type": "code",
   "execution_count": 128,
   "metadata": {},
   "outputs": [
    {
     "name": "stdout",
     "output_type": "stream",
     "text": [
      "[678 624 548 522 701 617 666 598 791 580 557 758 654 532 782 539 640]\n"
     ]
    }
   ],
   "source": [
    "print(a[(a >= 500) & (a <= 800)])"
   ]
  },
  {
   "cell_type": "code",
   "execution_count": null,
   "metadata": {},
   "outputs": [],
   "source": []
  }
 ],
 "metadata": {
  "kernelspec": {
   "display_name": "base",
   "language": "python",
   "name": "python3"
  },
  "language_info": {
   "codemirror_mode": {
    "name": "ipython",
    "version": 3
   },
   "file_extension": ".py",
   "mimetype": "text/x-python",
   "name": "python",
   "nbconvert_exporter": "python",
   "pygments_lexer": "ipython3",
   "version": "3.9.12"
  },
  "orig_nbformat": 4,
  "vscode": {
   "interpreter": {
    "hash": "c28b3cece02bc02c12fa5766a988d4443922620539affbc7b46a193a80d0f256"
   }
  }
 },
 "nbformat": 4,
 "nbformat_minor": 2
}
