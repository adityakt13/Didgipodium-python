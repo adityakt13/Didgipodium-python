{
 "cells": [
  {
   "cell_type": "markdown",
   "metadata": {},
   "source": [
    "# Loop\n",
    "- For loop - step based\n",
    "- While loop - condition based\n",
    "\n",
    "for loop syntax\n",
    "```\n",
    "for temp_variable in iterable:\n",
    "    statement 1\n",
    "    statement 2\n",
    "    \n",
    "    ```\n",
    "    statement n"
   ]
  },
  {
   "cell_type": "code",
   "execution_count": 1,
   "metadata": {},
   "outputs": [
    {
     "name": "stdout",
     "output_type": "stream",
     "text": [
      "A\n",
      "l\n",
      "p\n",
      "h\n",
      "a\n",
      "b\n",
      "e\n",
      "t\n"
     ]
    }
   ],
   "source": [
    "a = 'Alphabet'\n",
    "for letter in a:\n",
    "    print(letter)"
   ]
  },
  {
   "cell_type": "code",
   "execution_count": 2,
   "metadata": {},
   "outputs": [
    {
     "name": "stdout",
     "output_type": "stream",
     "text": [
      "I like colors such as red\n",
      "I like colors such as green\n",
      "I like colors such as blue\n",
      "I like colors such as yellow\n"
     ]
    }
   ],
   "source": [
    "colors = ['red', 'green', 'blue', 'yellow']\n",
    "for color in colors:\n",
    "    print('I like colors such as',color)"
   ]
  },
  {
   "cell_type": "code",
   "execution_count": 3,
   "metadata": {},
   "outputs": [
    {
     "name": "stdout",
     "output_type": "stream",
     "text": [
      "0\n",
      "1\n",
      "2\n",
      "3\n",
      "4\n",
      "5\n",
      "6\n",
      "7\n",
      "8\n",
      "9\n"
     ]
    }
   ],
   "source": [
    "for i in range(10):\n",
    "    print(i)"
   ]
  },
  {
   "cell_type": "markdown",
   "metadata": {},
   "source": [
    "### Types of range function\n",
    "- `range(100) will print 0 to 99`\n",
    "- `range(5,49) will print 5 to 48`\n",
    "- `range(2,20,2) will print 2,4,6,8,10,12,14,16,18`\n",
    "\n",
    "`range(start, stop, step)`"
   ]
  },
  {
   "cell_type": "code",
   "execution_count": 4,
   "metadata": {},
   "outputs": [
    {
     "name": "stdout",
     "output_type": "stream",
     "text": [
      "5 6 7 8 9 10 11 12 13 14 15 16 17 18 19 20 21 22 23 24 25 26 27 28 29 30 31 32 33 34 35 36 37 38 39 40 41 42 43 44 45 46 47 48 49 "
     ]
    }
   ],
   "source": [
    "for i in range(5,50):\n",
    "    print(i, end=' ')"
   ]
  },
  {
   "cell_type": "code",
   "execution_count": 5,
   "metadata": {},
   "outputs": [
    {
     "name": "stdout",
     "output_type": "stream",
     "text": [
      "5 15 25 35 45 55 65 75 85 95 "
     ]
    }
   ],
   "source": [
    "## end attribute of print function helps with characters we want to print after every value of range and printing it in one line\n",
    "\n",
    "for i in range(5,100,10):\n",
    "    print(i, end=' ')"
   ]
  },
  {
   "cell_type": "code",
   "execution_count": 6,
   "metadata": {},
   "outputs": [
    {
     "name": "stdout",
     "output_type": "stream",
     "text": [
      "34 is even\n",
      "45 is odd\n",
      "6 is even\n",
      "7 is odd\n",
      "8 is even\n",
      "434 is even\n",
      "23 is odd\n",
      "56 is even\n",
      "87 is odd\n",
      "78 is even\n"
     ]
    }
   ],
   "source": [
    "numbers= [34,45,6,7,8,434,23,56,87,78]\n",
    "for i in numbers:\n",
    "    if i%2==0:\n",
    "        print(f'{i} is even')\n",
    "    else:\n",
    "        print(f\"{i} is odd\")"
   ]
  },
  {
   "cell_type": "code",
   "execution_count": 7,
   "metadata": {},
   "outputs": [
    {
     "name": "stdout",
     "output_type": "stream",
     "text": [
      "yellow\n",
      "orange\n"
     ]
    }
   ],
   "source": [
    "colors = ['red', 'green', 'blue', 'yellow', 'orange']\n",
    "for c in colors:\n",
    "    if 'o' in c:\n",
    "        print(c)\n"
   ]
  },
  {
   "cell_type": "code",
   "execution_count": 8,
   "metadata": {},
   "outputs": [
    {
     "name": "stdout",
     "output_type": "stream",
     "text": [
      "Hello sir\n",
      "Hello doctor\n",
      "Hello ma'am\n",
      "Hello sir\n",
      "Hello sir\n",
      "Hello doctor\n",
      "Alex you are not invited\n"
     ]
    }
   ],
   "source": [
    "guests = ['Mr.John', 'Dr. Smith', 'Mrs.Jones', \n",
    "'Mr.Smith', 'Mr.Jones', 'Dr. Strange', 'Alex']\n",
    "for name in guests:\n",
    "    if name.startswith ('Mr.'):\n",
    "        print(\"Hello sir\")\n",
    "    elif name.startswith ('Mrs.'):\n",
    "        print(\"Hello ma'am\")\n",
    "    elif name.startswith ('Dr.'):\n",
    "        print(\"Hello doctor\")\n",
    "    else:\n",
    "        print(f\"{name} you are not invited\")"
   ]
  },
  {
   "cell_type": "code",
   "execution_count": 9,
   "metadata": {},
   "outputs": [
    {
     "name": "stdout",
     "output_type": "stream",
     "text": [
      ":D\n",
      ":|\n",
      ":(\n",
      ":(\n",
      ":|\n",
      ":(\n",
      ":D\n",
      ":D\n",
      ":|\n",
      ":(\n",
      ":(\n",
      ":(\n"
     ]
    }
   ],
   "source": [
    "numbers = [23,45,67,89,34,56,23,21,45,67,89,92]\n",
    "# num < 30 :D\n",
    "# num> 50  :(\n",
    "# else :|\n",
    "for num in numbers:\n",
    "    if num<30:\n",
    "        print(\":D\")\n",
    "    elif num>50:\n",
    "        print(\":(\")\n",
    "    else:\n",
    "        print(\":|\")"
   ]
  },
  {
   "cell_type": "markdown",
   "metadata": {},
   "source": [
    "- enumerator() -->shows us the index number of values inside a list\n",
    "- zip()"
   ]
  },
  {
   "cell_type": "code",
   "execution_count": 10,
   "metadata": {},
   "outputs": [
    {
     "name": "stdout",
     "output_type": "stream",
     "text": [
      "(0, 'Ritesh')\n",
      "(1, 'Nitesh')\n",
      "(2, 'Himanshu')\n",
      "(3, 'Amita')\n",
      "(4, 'Avneesh')\n",
      "(5, 'Areesha')\n",
      "(6, 'Muskan')\n",
      "(7, 'Pragya')\n",
      "(8, 'Udbhav')\n",
      "(9, 'Aditya')\n"
     ]
    }
   ],
   "source": [
    "names =['Ritesh','Nitesh','Himanshu','Amita','Avneesh',\n",
    "     'Areesha','Muskan','Pragya','Udbhav','Aditya']\n",
    "for nm in enumerate(names):\n",
    "    print(nm)"
   ]
  },
  {
   "cell_type": "code",
   "execution_count": 11,
   "metadata": {},
   "outputs": [
    {
     "name": "stdout",
     "output_type": "stream",
     "text": [
      "Ritesh is at index 0\n",
      "Nitesh is at index 1\n",
      "Himanshu is at index 2\n",
      "Amita is at index 3\n",
      "Avneesh is at index 4\n",
      "Areesha is at index 5\n",
      "Muskan is at index 6\n",
      "Pragya is at index 7\n",
      "Udbhav is at index 8\n",
      "Aditya is at index 9\n"
     ]
    }
   ],
   "source": [
    "for ind,nm in enumerate(names):\n",
    "    print(nm,\"is at index\",ind) # unprofessional way to print"
   ]
  },
  {
   "cell_type": "code",
   "execution_count": 12,
   "metadata": {},
   "outputs": [
    {
     "name": "stdout",
     "output_type": "stream",
     "text": [
      "Ritesh is at index 0\n",
      "Nitesh is at index 1\n",
      "Himanshu is at index 2\n",
      "Amita is at index 3\n",
      "Avneesh is at index 4\n",
      "Areesha is at index 5\n",
      "Muskan is at index 6\n",
      "Pragya is at index 7\n",
      "Udbhav is at index 8\n",
      "Aditya is at index 9\n"
     ]
    }
   ],
   "source": [
    "for ind,nm in enumerate(names):\n",
    "    print(f\"{nm} is at index {ind}\") # professional way to print"
   ]
  },
  {
   "cell_type": "code",
   "execution_count": 13,
   "metadata": {},
   "outputs": [
    {
     "name": "stdout",
     "output_type": "stream",
     "text": [
      "['Ritesh', 'Nitesh', 'Himanshu', 'Amita', 'Avneesh', 'Areesha', 'Muskan', 'Pragya', 'Udbhav', 'Aditya'] "
     ]
    }
   ],
   "source": [
    "print (names , end = ' ')"
   ]
  },
  {
   "cell_type": "code",
   "execution_count": 14,
   "metadata": {},
   "outputs": [],
   "source": [
    "bday = ['12 Oct','22 Feb','18 Jan','20 Oct','3 May',\n",
    "    '12 Jun','22 Mar','13 Sep','25 Oct','13 August']"
   ]
  },
  {
   "cell_type": "code",
   "execution_count": 15,
   "metadata": {},
   "outputs": [
    {
     "name": "stdout",
     "output_type": "stream",
     "text": [
      "Ritesh's birthday is on 12 Oct\n",
      "Nitesh's birthday is on 22 Feb\n",
      "Himanshu's birthday is on 18 Jan\n",
      "Amita's birthday is on 20 Oct\n",
      "Avneesh's birthday is on 3 May\n",
      "Areesha's birthday is on 12 Jun\n",
      "Muskan's birthday is on 22 Mar\n",
      "Pragya's birthday is on 13 Sep\n",
      "Udbhav's birthday is on 25 Oct\n",
      "Aditya's birthday is on 13 August\n"
     ]
    }
   ],
   "source": [
    "for nm,date in zip(names,bday):\n",
    "    print(f\"{nm}'s birthday is on {date}\")"
   ]
  },
  {
   "cell_type": "code",
   "execution_count": 16,
   "metadata": {},
   "outputs": [
    {
     "name": "stdout",
     "output_type": "stream",
     "text": [
      "T.V costs 42000 and we currently have 5 in stock, so the total cost will be 210000\n",
      "Refrigerator costs 44000 and we currently have 10 in stock, so the total cost will be 440000\n",
      "Air conditioner costs 55000 and we currently have 12 in stock, so the total cost will be 660000\n"
     ]
    }
   ],
   "source": [
    "products = ['T.V', 'Refrigerator', 'Air conditioner']\n",
    "prices = [42000, 44000, 55000]\n",
    "quantity = [5, 10, 12]\n",
    "\n",
    "for pro,pri,qty in zip (products,prices,quantity):\n",
    "    print (f\"{pro} costs {pri} and we currently have {qty} in stock, so the total cost will be {pri*qty}\")"
   ]
  },
  {
   "cell_type": "markdown",
   "metadata": {},
   "source": [
    "#### Loop control\n",
    "\n",
    "- continue --> skip a turn\n",
    "- break --> exit/stop the loop\n",
    "#### Note: they are only used in a conditon inside loop"
   ]
  },
  {
   "cell_type": "code",
   "execution_count": 17,
   "metadata": {},
   "outputs": [
    {
     "name": "stdout",
     "output_type": "stream",
     "text": [
      "0\n",
      "1\n",
      "2\n",
      "3\n",
      "4\n",
      "5\n"
     ]
    }
   ],
   "source": [
    "for i in range(10): \n",
    "    if i == 6:\n",
    "        break\n",
    "    print(i)"
   ]
  },
  {
   "cell_type": "code",
   "execution_count": 18,
   "metadata": {},
   "outputs": [
    {
     "name": "stdout",
     "output_type": "stream",
     "text": [
      "0\n",
      "1\n",
      "2\n",
      "3\n",
      "4\n",
      "5\n",
      "6\n",
      "8\n",
      "9\n",
      "10\n"
     ]
    }
   ],
   "source": [
    "for i in range(11):\n",
    "    if i == 7:\n",
    "        continue\n",
    "    print(i)"
   ]
  },
  {
   "cell_type": "code",
   "execution_count": 19,
   "metadata": {},
   "outputs": [
    {
     "name": "stdout",
     "output_type": "stream",
     "text": [
      "Ritesh is at index 0\n",
      "Nitesh is at index 1\n",
      "Himanshu is at index 2\n",
      "Amita is at index 3\n",
      "Avneesh is at index 4\n",
      "Areesha is at index 5\n"
     ]
    }
   ],
   "source": [
    "for ind,nm in enumerate (names):\n",
    "    if ind == 6:\n",
    "        break\n",
    "    print(f\"{nm} is at index {ind}\")"
   ]
  },
  {
   "cell_type": "code",
   "execution_count": 20,
   "metadata": {},
   "outputs": [
    {
     "name": "stdout",
     "output_type": "stream",
     "text": [
      "Ritesh is at index 0\n",
      "Nitesh is at index 1\n",
      "Himanshu is at index 2\n",
      "Amita is at index 3\n",
      "Avneesh is at index 4\n",
      "Areesha is at index 5\n",
      "Pragya is at index 7\n",
      "Udbhav is at index 8\n",
      "Aditya is at index 9\n"
     ]
    }
   ],
   "source": [
    "for ind,nm in enumerate (names):\n",
    "    if ind == 6:\n",
    "        continue\n",
    "    print(f\"{nm} is at index {ind}\")"
   ]
  },
  {
   "cell_type": "code",
   "execution_count": 21,
   "metadata": {},
   "outputs": [
    {
     "name": "stdout",
     "output_type": "stream",
     "text": [
      "2 4 66 51 "
     ]
    }
   ],
   "source": [
    "for i in [2,4,66,51,5,7,2]:\n",
    "    if i == 5:\n",
    "        break\n",
    "    print (i, end =\" \")"
   ]
  },
  {
   "cell_type": "code",
   "execution_count": 59,
   "metadata": {},
   "outputs": [
    {
     "name": "stdout",
     "output_type": "stream",
     "text": [
      "2 4 66 51 7 2 "
     ]
    }
   ],
   "source": [
    "for i in [2,4,66,51,5,7,2]:\n",
    "    if i == 5:\n",
    "        continue\n",
    "    print (i, end =\" \")"
   ]
  },
  {
   "cell_type": "code",
   "execution_count": 70,
   "metadata": {},
   "outputs": [
    {
     "name": "stdout",
     "output_type": "stream",
     "text": [
      "2  4  66  Loop broken\n"
     ]
    }
   ],
   "source": [
    "r = True\n",
    "for i in [2,4,66,5,51,7,2]:\n",
    "    if i == 5:\n",
    "        r = False\n",
    "        break\n",
    "    print (i,end ='  ')\n",
    "if r:\n",
    "    print (\"Loop completed\")\n",
    "else:\n",
    "    print(\"Loop broken\")"
   ]
  },
  {
   "cell_type": "code",
   "execution_count": 61,
   "metadata": {},
   "outputs": [
    {
     "name": "stdout",
     "output_type": "stream",
     "text": [
      "2 1 32 4 2 1 2 3 31 31 Loop continued\n"
     ]
    }
   ],
   "source": [
    "for i in [2,1,32,4,2,1,2,3,31,31]:\n",
    "    if i == 41:\n",
    "        print (\"Loop broken\")\n",
    "        break\n",
    "    print (i , end = ' ')\n",
    "else:\n",
    "    print (\"Loop continued\")"
   ]
  },
  {
   "cell_type": "code",
   "execution_count": 25,
   "metadata": {},
   "outputs": [
    {
     "name": "stdout",
     "output_type": "stream",
     "text": [
      "70 65 60 55 50 45 40 35 30 25 20 15 10 5 "
     ]
    }
   ],
   "source": [
    "x = 70\n",
    "while x > 0:\n",
    "    print(x, end =\" \")\n",
    "    x -= 5\n",
    "    "
   ]
  },
  {
   "cell_type": "code",
   "execution_count": 71,
   "metadata": {},
   "outputs": [
    {
     "name": "stdout",
     "output_type": "stream",
     "text": [
      "1 2 3 4 5 6 7 6 5 4 Loop continued\n"
     ]
    }
   ],
   "source": [
    "t = True\n",
    "\n",
    "for i in [1,2,3,4,5,6,7,6,5,4]:\n",
    "    if i == 21:\n",
    "        t = False\n",
    "        continue\n",
    "    print (i , end = ' ')\n",
    "if t :\n",
    "    print(\"Loop continued\")\n",
    "else:\n",
    "    print(\"Loop skipped\")"
   ]
  }
 ],
 "metadata": {
  "kernelspec": {
   "display_name": "Python 3.9.12 ('base')",
   "language": "python",
   "name": "python3"
  },
  "language_info": {
   "codemirror_mode": {
    "name": "ipython",
    "version": 3
   },
   "file_extension": ".py",
   "mimetype": "text/x-python",
   "name": "python",
   "nbconvert_exporter": "python",
   "pygments_lexer": "ipython3",
   "version": "3.9.12"
  },
  "orig_nbformat": 4,
  "vscode": {
   "interpreter": {
    "hash": "c28b3cece02bc02c12fa5766a988d4443922620539affbc7b46a193a80d0f256"
   }
  }
 },
 "nbformat": 4,
 "nbformat_minor": 2
}
