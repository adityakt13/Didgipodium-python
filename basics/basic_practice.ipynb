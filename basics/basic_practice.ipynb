{
 "cells": [
  {
   "attachments": {},
   "cell_type": "markdown",
   "metadata": {},
   "source": [
    "## So the coding starts here"
   ]
  },
  {
   "cell_type": "code",
   "execution_count": 1,
   "metadata": {},
   "outputs": [
    {
     "data": {
      "text/plain": [
       "'Aditya Kumar Tripathi'"
      ]
     },
     "execution_count": 1,
     "metadata": {},
     "output_type": "execute_result"
    }
   ],
   "source": [
    "name = \"Aditya Kumar Tripathi\"\n",
    "name"
   ]
  },
  {
   "attachments": {},
   "cell_type": "markdown",
   "metadata": {},
   "source": [
    "### Datatypes"
   ]
  },
  {
   "cell_type": "code",
   "execution_count": 2,
   "metadata": {},
   "outputs": [
    {
     "name": "stdout",
     "output_type": "stream",
     "text": [
      "<class 'int'>\n",
      "<class 'str'>\n",
      "<class 'float'>\n",
      "<class 'bool'>\n"
     ]
    }
   ],
   "source": [
    "int1 = 20\n",
    "str1 = \"This is a random string\"\n",
    "float1 = 3.12\n",
    "bool1 = True\n",
    "print(type(int1))\n",
    "print(type(str1))\n",
    "print(type(float1))\n",
    "print(type(bool1))"
   ]
  },
  {
   "cell_type": "code",
   "execution_count": 3,
   "metadata": {},
   "outputs": [],
   "source": [
    "list1 = [1,2,\"Aditya\",3,4,5,3.2,(1,2,3,4),{3,4,2},True]\n",
    "tuple1 = (1,2,3,4,[3,4,5],5,{1,3,4},\"Aditya\",8.5,False)\n",
    "set1 = {1,2,3,4,5,5,(2,5,6),5,\"Aditya\",3.8,True}\n",
    "dict1 = {'name':'Aditya',\"Age\": 20, \"Degree\":\"B.Com\"}"
   ]
  },
  {
   "cell_type": "code",
   "execution_count": 4,
   "metadata": {},
   "outputs": [
    {
     "name": "stdout",
     "output_type": "stream",
     "text": [
      "[1, 2, 'Aditya', 3, 4, 5, 3.2, (1, 2, 3, 4), {2, 3, 4}, True]\n",
      "(1, 2, 3, 4, [3, 4, 5], 5, {1, 3, 4}, 'Aditya', 8.5, False)\n",
      "{1, 2, 3, 4, 5, 'Aditya', 3.8, (2, 5, 6)}\n",
      "{'name': 'Aditya', 'Age': 20, 'Degree': 'B.Com'}\n"
     ]
    }
   ],
   "source": [
    "print(list1)\n",
    "print(tuple1)\n",
    "print(set1)\n",
    "print(dict1)"
   ]
  },
  {
   "cell_type": "code",
   "execution_count": 5,
   "metadata": {},
   "outputs": [
    {
     "name": "stdout",
     "output_type": "stream",
     "text": [
      "<class 'list'>\n",
      "<class 'tuple'>\n",
      "<class 'set'>\n",
      "<class 'dict'>\n"
     ]
    }
   ],
   "source": [
    "print(type(list1))\n",
    "print(type(tuple1))\n",
    "print(type(set1))\n",
    "print(type(dict1))"
   ]
  },
  {
   "cell_type": "code",
   "execution_count": 6,
   "metadata": {},
   "outputs": [
    {
     "name": "stdout",
     "output_type": "stream",
     "text": [
      "Aditya\n",
      "[3, 4, 5]\n",
      "Aditya\n",
      "Aditya\n"
     ]
    }
   ],
   "source": [
    "print(list1[2])\n",
    "print(tuple1[4])\n",
    "print(dict1[\"name\"]) \n",
    "print(dict1.get(\"name\")) # another way of indexing "
   ]
  },
  {
   "cell_type": "code",
   "execution_count": 7,
   "metadata": {},
   "outputs": [],
   "source": [
    "list2 = [1,2,3,4,5,\"Aditya\"]\n",
    "list2 = set(list2)\n"
   ]
  },
  {
   "cell_type": "code",
   "execution_count": 8,
   "metadata": {},
   "outputs": [
    {
     "ename": "TypeError",
     "evalue": "unhashable type: 'set'",
     "output_type": "error",
     "traceback": [
      "\u001b[1;31m---------------------------------------------------------------------------\u001b[0m",
      "\u001b[1;31mTypeError\u001b[0m                                 Traceback (most recent call last)",
      "Cell \u001b[1;32mIn[8], line 1\u001b[0m\n\u001b[1;32m----> 1\u001b[0m list1 \u001b[39m=\u001b[39m \u001b[39mset\u001b[39;49m(list1)\n",
      "\u001b[1;31mTypeError\u001b[0m: unhashable type: 'set'"
     ]
    }
   ],
   "source": [
    "list1 = set(list1)"
   ]
  },
  {
   "cell_type": "code",
   "execution_count": null,
   "metadata": {},
   "outputs": [],
   "source": [
    "a = 45\n",
    "b = 6"
   ]
  },
  {
   "cell_type": "code",
   "execution_count": null,
   "metadata": {},
   "outputs": [
    {
     "data": {
      "text/plain": [
       "51"
      ]
     },
     "execution_count": 61,
     "metadata": {},
     "output_type": "execute_result"
    }
   ],
   "source": [
    "a + b"
   ]
  },
  {
   "cell_type": "code",
   "execution_count": null,
   "metadata": {},
   "outputs": [
    {
     "data": {
      "text/plain": [
       "39"
      ]
     },
     "execution_count": 62,
     "metadata": {},
     "output_type": "execute_result"
    }
   ],
   "source": [
    "a -b"
   ]
  },
  {
   "cell_type": "code",
   "execution_count": null,
   "metadata": {},
   "outputs": [
    {
     "data": {
      "text/plain": [
       "7.5"
      ]
     },
     "execution_count": 63,
     "metadata": {},
     "output_type": "execute_result"
    }
   ],
   "source": [
    "a /b"
   ]
  },
  {
   "cell_type": "code",
   "execution_count": null,
   "metadata": {},
   "outputs": [
    {
     "data": {
      "text/plain": [
       "7"
      ]
     },
     "execution_count": 64,
     "metadata": {},
     "output_type": "execute_result"
    }
   ],
   "source": [
    "a // b"
   ]
  },
  {
   "cell_type": "code",
   "execution_count": null,
   "metadata": {},
   "outputs": [
    {
     "data": {
      "text/plain": [
       "3"
      ]
     },
     "execution_count": 65,
     "metadata": {},
     "output_type": "execute_result"
    }
   ],
   "source": [
    "a % b"
   ]
  },
  {
   "cell_type": "code",
   "execution_count": null,
   "metadata": {},
   "outputs": [
    {
     "name": "stdout",
     "output_type": "stream",
     "text": [
      "Divisible  by both\n"
     ]
    }
   ],
   "source": [
    "num1 = int(input(\"Enter a number: \"))\n",
    "if num1 % 5 != 0 and num1 % 8 != 0:\n",
    "    print(\"Choose another number\")\n",
    "else:\n",
    "    print(\"Divisible  by both\")"
   ]
  },
  {
   "cell_type": "code",
   "execution_count": null,
   "metadata": {},
   "outputs": [
    {
     "name": "stdout",
     "output_type": "stream",
     "text": [
      "Bahut bade aadmi ban gaye ho ab tum.\n"
     ]
    }
   ],
   "source": [
    "age = int(input(\"enter age :\"))\n",
    "if age <14 :\n",
    "    print(\"Too small\")\n",
    "elif age >=14 and age <=18 :\n",
    "    print(\"Nibba\")\n",
    "elif age >=19 and age <=26:\n",
    "    print(\"kat raha hai\")\n",
    "elif age >=27 and age <=45:\n",
    "    print(\"Kat chuka\")\n",
    "else:\n",
    "    print(\"Bahut bade aadmi ban gaye ho ab tum.\")"
   ]
  },
  {
   "cell_type": "code",
   "execution_count": null,
   "metadata": {},
   "outputs": [
    {
     "data": {
      "text/plain": [
       "[1, 2, 'Aditya', 3, 4, 5, 3.2, (1, 2, 3, 4), {2, 3, 4}, True]"
      ]
     },
     "execution_count": 73,
     "metadata": {},
     "output_type": "execute_result"
    }
   ],
   "source": [
    "list1"
   ]
  },
  {
   "cell_type": "code",
   "execution_count": null,
   "metadata": {},
   "outputs": [],
   "source": [
    "l1 = [1,2,3,6,3,5,8,3,5,7,3]"
   ]
  },
  {
   "cell_type": "code",
   "execution_count": null,
   "metadata": {},
   "outputs": [
    {
     "data": {
      "text/plain": [
       "[1, 2, 3, 3, 3, 3, 5, 5, 6, 7, 8]"
      ]
     },
     "execution_count": 113,
     "metadata": {},
     "output_type": "execute_result"
    }
   ],
   "source": [
    "l1"
   ]
  },
  {
   "cell_type": "code",
   "execution_count": null,
   "metadata": {},
   "outputs": [
    {
     "name": "stdout",
     "output_type": "stream",
     "text": [
      "[1, 2, 4, 3, 3, 3, 3, 5, 5, 6, 7, 8]\n"
     ]
    }
   ],
   "source": [
    "l1.insert(2,4)\n",
    "print(l1)\n"
   ]
  },
  {
   "cell_type": "code",
   "execution_count": null,
   "metadata": {},
   "outputs": [],
   "source": []
  }
 ],
 "metadata": {
  "kernelspec": {
   "display_name": "base",
   "language": "python",
   "name": "python3"
  },
  "language_info": {
   "codemirror_mode": {
    "name": "ipython",
    "version": 3
   },
   "file_extension": ".py",
   "mimetype": "text/x-python",
   "name": "python",
   "nbconvert_exporter": "python",
   "pygments_lexer": "ipython3",
   "version": "3.10.8 | packaged by conda-forge | (main, Nov 24 2022, 14:07:00) [MSC v.1916 64 bit (AMD64)]"
  },
  "orig_nbformat": 4,
  "vscode": {
   "interpreter": {
    "hash": "d4c82845a048daa8c33a8abb9ebd8563314c4f8de705e1fb128134a75ab22022"
   }
  }
 },
 "nbformat": 4,
 "nbformat_minor": 2
}
