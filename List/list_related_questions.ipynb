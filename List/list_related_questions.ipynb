{
 "cells": [
  {
   "cell_type": "markdown",
   "metadata": {},
   "source": [
    "take 2 lists and create another list by adding elements of both lists together according to index\n",
    "```\n",
    "a = [1,2,3]\n",
    "b = [4,5,6]\n",
    "```\n",
    "answer\n",
    "```\n",
    "c = [5,7,9]"
   ]
  },
  {
   "cell_type": "code",
   "execution_count": 3,
   "metadata": {},
   "outputs": [
    {
     "name": "stdout",
     "output_type": "stream",
     "text": [
      "[1, 2, 3]\n",
      "[4, 5, 6, 7, 8]\n",
      "[5, 7, 9]\n"
     ]
    }
   ],
   "source": [
    "c = [ ]\n",
    "a = [1,2,3]\n",
    "b = [4,5,6,7,8]\n",
    "for i, j in zip (a,b):\n",
    "    ans = i + j\n",
    "    c.append(ans)\n",
    "print(a)\n",
    "print(b)\n",
    "print (c)\n"
   ]
  },
  {
   "cell_type": "markdown",
   "metadata": {},
   "source": [
    "we have length of 5 items in one list and width of 5 times in another list. Calculate the area and store them into third list, take one item from both list at a time.\n",
    "```\n",
    "x = [1,2,3,55]\n",
    "y = [2,1,25,1]\n",
    "```\n",
    "answer\n",
    "```\n",
    "area = [2,2,75,55]"
   ]
  },
  {
   "cell_type": "code",
   "execution_count": 7,
   "metadata": {},
   "outputs": [
    {
     "name": "stdout",
     "output_type": "stream",
     "text": [
      "[2, 2, 75, 55]\n"
     ]
    }
   ],
   "source": [
    "area = [ ]\n",
    "x = [1,2,3,55]\n",
    "y = [2,1,25,1]\n",
    "for a ,b in zip (x,y):\n",
    "    ans = a * b\n",
    "    area.append(ans)\n",
    "print(area)\n"
   ]
  },
  {
   "cell_type": "markdown",
   "metadata": {},
   "source": [
    "we have a list of numbers, we need to square each number and store them into another list.\n",
    "```\n",
    "numbers = [1,2,3,4,5]\n",
    "```\n",
    "answer\n",
    "```\n",
    "squares = [1,4,9,16,25]\n",
    "```"
   ]
  },
  {
   "cell_type": "code",
   "execution_count": 6,
   "metadata": {},
   "outputs": [
    {
     "name": "stdout",
     "output_type": "stream",
     "text": [
      "[1, 2, 3, 4, 5]\n",
      "[1, 4, 9, 16, 25]\n"
     ]
    }
   ],
   "source": [
    "numbers = [1,2,3,4,5]\n",
    "squares = []\n",
    "for i in numbers:\n",
    "    squares.append(i ** 2)\n",
    "print(numbers)\n",
    "print(squares)"
   ]
  },
  {
   "cell_type": "markdown",
   "metadata": {},
   "source": [
    "# List comprehension\n",
    "```\n",
    "newlist = [expression for item in iterable if condition == True]\n",
    "```"
   ]
  },
  {
   "cell_type": "code",
   "execution_count": 7,
   "metadata": {},
   "outputs": [
    {
     "name": "stdout",
     "output_type": "stream",
     "text": [
      "[1, 2, 3, 5, 6, 12, 18, 17]\n",
      "[1, 4, 9, 25, 36, 144, 324, 289]\n"
     ]
    }
   ],
   "source": [
    "x = [1,2,3,5,6,12,18,17]\n",
    "x2 = [i ** 2 for i in x]\n",
    "print(x)\n",
    "print(x2)"
   ]
  },
  {
   "cell_type": "code",
   "execution_count": 9,
   "metadata": {},
   "outputs": [
    {
     "name": "stdout",
     "output_type": "stream",
     "text": [
      "[1, 2, 3, 5, 6, 12, 18, 17]\n",
      "[2, 6, 12, 18]\n"
     ]
    }
   ],
   "source": [
    "x = [1,2,3,5,6,12,18,17]\n",
    "x_even = [i for i in x if i%2 ==0]\n",
    "print(x)\n",
    "print(x_even)"
   ]
  },
  {
   "cell_type": "code",
   "execution_count": 15,
   "metadata": {},
   "outputs": [
    {
     "name": "stdout",
     "output_type": "stream",
     "text": [
      "['Hello', 'Alphabet', 'Python', 'Worldwide']\n",
      "[5, 8, 6, 9]\n"
     ]
    }
   ],
   "source": [
    "words = ['Hello', 'Alphabet','Python','Worldwide']\n",
    "size = [len(w) for w in words]\n",
    "print(words)\n",
    "print(size)"
   ]
  },
  {
   "cell_type": "code",
   "execution_count": 18,
   "metadata": {},
   "outputs": [
    {
     "name": "stdout",
     "output_type": "stream",
     "text": [
      "[10, 60, 60, 420, 10]\n"
     ]
    }
   ],
   "source": [
    "lengths = [2,5,12,35,5]\n",
    "widths = [5,12,5,12,2]\n",
    "area = [len * wid for len,wid in zip(lengths,widths)]\n",
    "print(area)"
   ]
  }
 ],
 "metadata": {
  "kernelspec": {
   "display_name": "Python 3.9.12 ('base')",
   "language": "python",
   "name": "python3"
  },
  "language_info": {
   "codemirror_mode": {
    "name": "ipython",
    "version": 3
   },
   "file_extension": ".py",
   "mimetype": "text/x-python",
   "name": "python",
   "nbconvert_exporter": "python",
   "pygments_lexer": "ipython3",
   "version": "3.9.12"
  },
  "orig_nbformat": 4,
  "vscode": {
   "interpreter": {
    "hash": "c28b3cece02bc02c12fa5766a988d4443922620539affbc7b46a193a80d0f256"
   }
  }
 },
 "nbformat": 4,
 "nbformat_minor": 2
}
