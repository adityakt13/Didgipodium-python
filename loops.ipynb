{
 "cells": [
  {
   "cell_type": "markdown",
   "metadata": {},
   "source": [
    "# Loop\n",
    "- For loop - step based\n",
    "- While loop - condition based\n",
    "\n",
    "for loop syntax\n",
    "```\n",
    "for temp_variable in iterable:\n",
    "    statement 1\n",
    "    statement 2\n",
    "    \n",
    "    ```\n",
    "    statement n"
   ]
  },
  {
   "cell_type": "code",
   "execution_count": 7,
   "metadata": {},
   "outputs": [
    {
     "name": "stdout",
     "output_type": "stream",
     "text": [
      "A\n",
      "l\n",
      "p\n",
      "h\n",
      "a\n",
      "b\n",
      "e\n",
      "t\n"
     ]
    }
   ],
   "source": [
    "a = 'Alphabet'\n",
    "for letter in a:\n",
    "    print(letter)"
   ]
  },
  {
   "cell_type": "code",
   "execution_count": 11,
   "metadata": {},
   "outputs": [
    {
     "name": "stdout",
     "output_type": "stream",
     "text": [
      "I like colors such as red\n",
      "I like colors such as green\n",
      "I like colors such as blue\n",
      "I like colors such as yellow\n"
     ]
    }
   ],
   "source": [
    "colors = ['red', 'green', 'blue', 'yellow']\n",
    "for color in colors:\n",
    "    print('I like colors such as',color)"
   ]
  },
  {
   "cell_type": "code",
   "execution_count": 21,
   "metadata": {},
   "outputs": [
    {
     "name": "stdout",
     "output_type": "stream",
     "text": [
      "0\n",
      "1\n",
      "2\n",
      "3\n",
      "4\n",
      "5\n",
      "6\n",
      "7\n",
      "8\n",
      "9\n"
     ]
    }
   ],
   "source": [
    "for i in range(10):\n",
    "    print(i)"
   ]
  },
  {
   "cell_type": "markdown",
   "metadata": {},
   "source": [
    "### Types of range function\n",
    "- `range(100) will print 0 to 99`\n",
    "- `range(5,49) will print 5 to 48`\n",
    "- `range(2,20,2) will print 2,4,6,8,10,12,14,16,18`\n",
    "\n",
    "`range(start, stop, step)`"
   ]
  },
  {
   "cell_type": "code",
   "execution_count": 25,
   "metadata": {},
   "outputs": [
    {
     "name": "stdout",
     "output_type": "stream",
     "text": [
      "5 6 7 8 9 10 11 12 13 14 15 16 17 18 19 20 21 22 23 24 25 26 27 28 29 30 31 32 33 34 35 36 37 38 39 40 41 42 43 44 45 46 47 48 49 "
     ]
    }
   ],
   "source": [
    "for i in range(5,50):\n",
    "    print(i, end=' ')"
   ]
  },
  {
   "cell_type": "code",
   "execution_count": 38,
   "metadata": {},
   "outputs": [
    {
     "name": "stdout",
     "output_type": "stream",
     "text": [
      "5 15 25 35 45 55 65 75 85 95 "
     ]
    }
   ],
   "source": [
    "## end attribute of print function helps with characters we want to print after every value of range and printing it in one line\n",
    "\n",
    "for i in range(5,100,10):\n",
    "    print(i, end=' ')"
   ]
  },
  {
   "cell_type": "code",
   "execution_count": 39,
   "metadata": {},
   "outputs": [
    {
     "name": "stdout",
     "output_type": "stream",
     "text": [
      "34 is even\n",
      "45 is odd\n",
      "6 is even\n",
      "7 is odd\n",
      "8 is even\n",
      "434 is even\n",
      "23 is odd\n",
      "56 is even\n",
      "87 is odd\n",
      "78 is even\n"
     ]
    }
   ],
   "source": [
    "numbers= [34,45,6,7,8,434,23,56,87,78]\n",
    "for i in numbers:\n",
    "    if i%2==0:\n",
    "        print(f'{i} is even')\n",
    "    else:\n",
    "        print(f\"{i} is odd\")"
   ]
  },
  {
   "cell_type": "code",
   "execution_count": 37,
   "metadata": {},
   "outputs": [
    {
     "name": "stdout",
     "output_type": "stream",
     "text": [
      "yellow\n",
      "orange\n"
     ]
    }
   ],
   "source": [
    "colors = ['red', 'green', 'blue', 'yellow', 'orange']\n",
    "for c in colors:\n",
    "    if 'o' in c:\n",
    "        print(c)\n"
   ]
  },
  {
   "cell_type": "code",
   "execution_count": 45,
   "metadata": {},
   "outputs": [
    {
     "name": "stdout",
     "output_type": "stream",
     "text": [
      "Hello sir\n",
      "Hello doctor\n",
      "Hello ma'am\n",
      "Hello sir\n",
      "Hello sir\n",
      "Hello doctor\n",
      "Alex you are not invited\n"
     ]
    }
   ],
   "source": [
    "guests = ['Mr.John', 'Dr. Smith', 'Mrs.Jones', \n",
    "'Mr.Smith', 'Mr.Jones', 'Dr. Strange', 'Alex']\n",
    "for name in guests:\n",
    "    if name.startswith ('Mr.'):\n",
    "        print(\"Hello sir\")\n",
    "    elif name.startswith ('Mrs.'):\n",
    "        print(\"Hello ma'am\")\n",
    "    elif name.startswith ('Dr.'):\n",
    "        print(\"Hello doctor\")\n",
    "    else:\n",
    "        print(f\"{name} you are not invited\")"
   ]
  },
  {
   "cell_type": "code",
   "execution_count": 47,
   "metadata": {},
   "outputs": [
    {
     "name": "stdout",
     "output_type": "stream",
     "text": [
      ":D\n",
      ":|\n",
      ":(\n",
      ":(\n",
      ":|\n",
      ":(\n",
      ":D\n",
      ":D\n",
      ":|\n",
      ":(\n",
      ":(\n",
      ":(\n"
     ]
    }
   ],
   "source": [
    "numbers = [23,45,67,89,34,56,23,21,45,67,89,92]\n",
    "# num < 30 :D\n",
    "# num> 50  :(\n",
    "# else :|\n",
    "for num in numbers:\n",
    "    if num<30:\n",
    "        print(\":D\")\n",
    "    elif num>50:\n",
    "        print(\":(\")\n",
    "    else:\n",
    "        print(\":|\")"
   ]
  }
 ],
 "metadata": {
  "kernelspec": {
   "display_name": "Python 3.9.12 ('base')",
   "language": "python",
   "name": "python3"
  },
  "language_info": {
   "codemirror_mode": {
    "name": "ipython",
    "version": 3
   },
   "file_extension": ".py",
   "mimetype": "text/x-python",
   "name": "python",
   "nbconvert_exporter": "python",
   "pygments_lexer": "ipython3",
   "version": "3.9.12"
  },
  "orig_nbformat": 4,
  "vscode": {
   "interpreter": {
    "hash": "c28b3cece02bc02c12fa5766a988d4443922620539affbc7b46a193a80d0f256"
   }
  }
 },
 "nbformat": 4,
 "nbformat_minor": 2
}
